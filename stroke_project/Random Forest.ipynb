{
 "cells": [
  {
   "cell_type": "code",
   "execution_count": 1,
   "id": "923f8bb1",
   "metadata": {},
   "outputs": [],
   "source": [
    "import pandas as pd\n",
    "from sklearn.model_selection import train_test_split\n",
    "from sklearn.ensemble import RandomForestClassifier\n",
    "from sklearn.metrics import accuracy_score, classification_report\n",
    "from sklearn.preprocessing import LabelEncoder\n",
    "from sklearn.impute import SimpleImputer\n"
   ]
  },
  {
   "cell_type": "code",
   "execution_count": 3,
   "id": "57108c31",
   "metadata": {},
   "outputs": [],
   "source": [
    "df = pd.read_csv(\"nan2.csv\")"
   ]
  },
  {
   "cell_type": "code",
   "execution_count": 5,
   "id": "964f7c20",
   "metadata": {},
   "outputs": [],
   "source": [
    "# 1. Manejar valores faltantes en 'peso' con la media\n",
    "imputer = SimpleImputer(strategy='mean')\n",
    "df['peso'] = imputer.fit_transform(df[['peso']])\n",
    "\n",
    "# 2. Eliminar filas con valores faltantes en 'fumador' (si las hubiera)\n",
    "df.dropna(subset=['fumador'], inplace=True)"
   ]
  },
  {
   "cell_type": "code",
   "execution_count": 9,
   "id": "b7214fc0",
   "metadata": {},
   "outputs": [
    {
     "name": "stdout",
     "output_type": "stream",
     "text": [
      "Precisión del modelo: 0.4651\n",
      "\n",
      "Reporte de Clasificación:\n",
      "              precision    recall  f1-score   support\n",
      "\n",
      "           0       0.46      0.54      0.50       180\n",
      "           1       0.48      0.39      0.43       192\n",
      "\n",
      "    accuracy                           0.47       372\n",
      "   macro avg       0.47      0.47      0.46       372\n",
      "weighted avg       0.47      0.47      0.46       372\n",
      "\n",
      "\n",
      "Importancia de las Características:\n",
      "                       importance\n",
      "ingresos                 0.160721\n",
      "edad                     0.154767\n",
      "peso                     0.149569\n",
      "horas_suenho             0.138798\n",
      "ciudad                   0.076193\n",
      "estado_civil             0.059319\n",
      "nivel_educacional        0.058359\n",
      "uso_transporte           0.048660\n",
      "actividad_fisica         0.047543\n",
      "consumo_alcohol          0.043995\n",
      "genero                   0.033864\n",
      "enfermedades_cronicas    0.028212\n"
     ]
    }
   ],
   "source": [
    "# 3. Codificar variables categóricas a numéricas\n",
    "# Usa los nombres de columna correctos según tu DataFrame\n",
    "categorical_cols = ['genero', 'nivel_educacional', 'fumador', 'actividad_fisica', 'estado_civil', 'enfermedades_cronicas', 'consumo_alcohol', 'uso_transporte', 'ciudad']\n",
    "label_encoders = {}\n",
    "for col in categorical_cols:\n",
    "    if col in df.columns:\n",
    "        le = LabelEncoder()\n",
    "        df[col] = le.fit_transform(df[col].astype(str))\n",
    "        label_encoders[col] = le\n",
    "\n",
    "# 4. Eliminar la columna 'id' ya que no es útil para el modelo\n",
    "if 'id' in df.columns:\n",
    "    df = df.drop('id', axis=1)\n",
    "\n",
    "# --- Preparación para el Modelo ---\n",
    "\n",
    "# Definir variable objetivo y variables predictoras\n",
    "# En este ejemplo, predecimos 'fumador'\n",
    "X = df.drop('fumador', axis=1)\n",
    "y = df['fumador']\n",
    "\n",
    "# Dividir en conjunto de entrenamiento y prueba\n",
    "X_train, X_test, y_train, y_test = train_test_split(X, y, test_size=0.2, random_state=42)\n",
    "\n",
    "# --- Entrenamiento del Modelo ---\n",
    "\n",
    "# Inicializar y entrenar el clasificador RandomForest\n",
    "# n_estimators: número de árboles en el bosque\n",
    "# random_state: para reproducibilidad\n",
    "rf_classifier = RandomForestClassifier(n_estimators=100, random_state=42)\n",
    "rf_classifier.fit(X_train, y_train)\n",
    "\n",
    "# --- Evaluación del Modelo ---\n",
    "\n",
    "# Realizar predicciones en el conjunto de prueba\n",
    "y_pred = rf_classifier.predict(X_test)\n",
    "\n",
    "# Calcular la precisión del modelo\n",
    "accuracy = accuracy_score(y_test, y_pred)\n",
    "print(f\"Precisión del modelo: {accuracy:.4f}\")\n",
    "\n",
    "# Mostrar un reporte de clasificación más detallado\n",
    "print(\"\\nReporte de Clasificación:\")\n",
    "print(classification_report(y_test, y_pred))\n",
    "\n",
    "# Mostrar la importancia de cada característica\n",
    "print(\"\\nImportancia de las Características:\")\n",
    "feature_importances = pd.DataFrame(rf_classifier.feature_importances_,\n",
    "                                   index = X_train.columns,\n",
    "                                   columns=['importance']).sort_values('importance', ascending=False)\n",
    "print(feature_importances)"
   ]
  },
  {
   "cell_type": "code",
   "execution_count": null,
   "id": "7fd8d935",
   "metadata": {},
   "outputs": [],
   "source": []
  }
 ],
 "metadata": {
  "kernelspec": {
   "display_name": "base",
   "language": "python",
   "name": "python3"
  },
  "language_info": {
   "codemirror_mode": {
    "name": "ipython",
    "version": 3
   },
   "file_extension": ".py",
   "mimetype": "text/x-python",
   "name": "python",
   "nbconvert_exporter": "python",
   "pygments_lexer": "ipython3",
   "version": "3.12.7"
  }
 },
 "nbformat": 4,
 "nbformat_minor": 5
}
